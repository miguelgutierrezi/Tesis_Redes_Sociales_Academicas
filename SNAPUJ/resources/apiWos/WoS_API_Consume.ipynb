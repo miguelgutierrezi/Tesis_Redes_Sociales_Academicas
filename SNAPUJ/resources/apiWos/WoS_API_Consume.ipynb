{
  "nbformat": 4,
  "nbformat_minor": 0,
  "metadata": {
    "colab": {
      "provenance": []
    },
    "kernelspec": {
      "name": "python3",
      "display_name": "Python 3"
    },
    "language_info": {
      "name": "python"
    }
  },
  "cells": [
    {
      "cell_type": "code",
      "execution_count": null,
      "metadata": {
        "colab": {
          "base_uri": "https://localhost:8080/"
        },
        "id": "mwnsGw4ZDG98",
        "outputId": "6e47fbd4-af08-4bf2-8094-091b9d6546e1"
      },
      "outputs": [
        {
          "output_type": "stream",
          "name": "stdout",
          "text": [
            "Looking in indexes: https://pypi.org/simple, https://us-python.pkg.dev/colab-wheels/public/simple/\n",
            "Collecting git+https://github.com/Clarivate-SAR/woslite_py_client.git\n",
            "  Cloning https://github.com/Clarivate-SAR/woslite_py_client.git to /tmp/pip-req-build-xo3kxh39\n",
            "  Running command git clone --filter=blob:none --quiet https://github.com/Clarivate-SAR/woslite_py_client.git /tmp/pip-req-build-xo3kxh39\n",
            "  Resolved https://github.com/Clarivate-SAR/woslite_py_client.git to commit 964efba76dc43a9bf9a565b6ba3594e944130583\n",
            "  Preparing metadata (setup.py) ... \u001b[?25l\u001b[?25hdone\n",
            "Requirement already satisfied: urllib3>=1.15 in /usr/local/lib/python3.10/dist-packages (from swagger-client==1.0.0) (1.26.15)\n",
            "Requirement already satisfied: six>=1.10 in /usr/local/lib/python3.10/dist-packages (from swagger-client==1.0.0) (1.16.0)\n",
            "Requirement already satisfied: certifi in /usr/local/lib/python3.10/dist-packages (from swagger-client==1.0.0) (2022.12.7)\n",
            "Requirement already satisfied: python-dateutil in /usr/local/lib/python3.10/dist-packages (from swagger-client==1.0.0) (2.8.2)\n",
            "Building wheels for collected packages: swagger-client\n",
            "  Building wheel for swagger-client (setup.py) ... \u001b[?25l\u001b[?25hdone\n",
            "  Created wheel for swagger-client: filename=swagger_client-1.0.0-py3-none-any.whl size=52845 sha256=3e420d7f6c5ced74bda3a3b98d0668aab0908e869c7507cb06b8019d955583d5\n",
            "  Stored in directory: /tmp/pip-ephem-wheel-cache-wgl4cpxx/wheels/19/15/31/f2e52f9ffcd12b331b8ff323fc0358b798bf9aada81f164eb4\n",
            "Successfully built swagger-client\n",
            "Installing collected packages: swagger-client\n",
            "Successfully installed swagger-client-1.0.0\n"
          ]
        }
      ],
      "source": [
        "!pip install git+https://github.com/Clarivate-SAR/woslite_py_client.git"
      ]
    },
    {
      "cell_type": "code",
      "source": [
        "from __future__ import print_function\n",
        "\n",
        "import pandas as pd\n",
        "import woslite_client\n",
        "from woslite_client.rest import ApiException"
      ],
      "metadata": {
        "id": "0SgPLlObDgAs"
      },
      "execution_count": null,
      "outputs": []
    },
    {
      "cell_type": "code",
      "source": [
        "configuration = woslite_client.Configuration()\n",
        "configuration.api_key['X-ApiKey'] = 'API-KEY'"
      ],
      "metadata": {
        "id": "pifw-aoPDjXU"
      },
      "execution_count": null,
      "outputs": []
    },
    {
      "cell_type": "code",
      "source": [
        "def search():\n",
        "  integration_api_instance = woslite_client.IntegrationApi(woslite_client.ApiClient(configuration))\n",
        "  search_api_instance = woslite_client.SearchApi(woslite_client.ApiClient(configuration))\n",
        "  database_id = 'WOK'\n",
        "  usr_query = 'OO=(Javeriana) OR OG=(Javeriana)'\n",
        "  count = 100\n",
        "  first_record = 1\n",
        "  lang = 'en'\n",
        "  searching = True\n",
        "  articles = []\n",
        "\n",
        "  try:\n",
        "      while searching:\n",
        "          api_response = search_api_instance.root_get(database_id, usr_query, count, first_record, lang=lang)\n",
        "          final_record = (first_record + count) - 1\n",
        "          print(\"{} - {} / {}\".format(first_record, final_record, api_response.query_result.records_found))\n",
        "          articles = articles + api_response.data\n",
        "          first_record = first_record + count\n",
        "          if first_record > api_response.query_result.records_found:\n",
        "              searching = False\n",
        "\n",
        "  except ApiException as e:\n",
        "      print(\"Ha ocurrido un error al traer la información {}\".format(e))\n",
        "\n",
        "  return articles"
      ],
      "metadata": {
        "id": "x5SMOlZDDvki"
      },
      "execution_count": null,
      "outputs": []
    },
    {
      "cell_type": "code",
      "source": [
        "import pandas as pd\n",
        "\n",
        "def transform_in_dict(articles):\n",
        "  data = []\n",
        "  for wos in articles:\n",
        "      data.append(wos.__dict__)\n",
        "\n",
        "  return pd.DataFrame(data)"
      ],
      "metadata": {
        "id": "d920LN0eGTi8"
      },
      "execution_count": null,
      "outputs": []
    },
    {
      "cell_type": "code",
      "source": [
        "articles = search()\n",
        "articles_df = transform_in_dict(articles)\n",
        "\n",
        "articles_df.to_csv('wos.csv', index=False)"
      ],
      "metadata": {
        "colab": {
          "base_uri": "https://localhost:8080/"
        },
        "id": "brn4goZrEMcg",
        "outputId": "d9d074b2-405d-4e09-e517-6c847025c8bf"
      },
      "execution_count": null,
      "outputs": [
        {
          "output_type": "stream",
          "name": "stdout",
          "text": [
            "1 - 100 / 7066\n",
            "101 - 200 / 7066\n",
            "201 - 300 / 7066\n",
            "301 - 400 / 7066\n",
            "401 - 500 / 7066\n",
            "501 - 600 / 7066\n",
            "601 - 700 / 7066\n",
            "701 - 800 / 7066\n",
            "801 - 900 / 7066\n",
            "901 - 1000 / 7066\n",
            "1001 - 1100 / 7066\n",
            "1101 - 1200 / 7066\n",
            "1201 - 1300 / 7066\n",
            "1301 - 1400 / 7066\n",
            "1401 - 1500 / 7066\n",
            "1501 - 1600 / 7066\n",
            "1601 - 1700 / 7066\n",
            "1701 - 1800 / 7066\n",
            "1801 - 1900 / 7066\n",
            "1901 - 2000 / 7066\n",
            "2001 - 2100 / 7066\n",
            "2101 - 2200 / 7066\n",
            "2201 - 2300 / 7066\n",
            "2301 - 2400 / 7066\n",
            "2401 - 2500 / 7066\n",
            "2501 - 2600 / 7066\n",
            "2601 - 2700 / 7066\n",
            "2701 - 2800 / 7066\n",
            "2801 - 2900 / 7066\n",
            "2901 - 3000 / 7066\n",
            "3001 - 3100 / 7066\n",
            "3101 - 3200 / 7066\n",
            "3201 - 3300 / 7066\n",
            "3301 - 3400 / 7066\n",
            "3401 - 3500 / 7066\n",
            "3501 - 3600 / 7066\n",
            "3601 - 3700 / 7066\n",
            "3701 - 3800 / 7066\n",
            "3801 - 3900 / 7066\n",
            "3901 - 4000 / 7066\n",
            "4001 - 4100 / 7066\n",
            "4101 - 4200 / 7066\n",
            "4201 - 4300 / 7066\n",
            "4301 - 4400 / 7066\n",
            "4401 - 4500 / 7066\n",
            "4501 - 4600 / 7066\n",
            "4601 - 4700 / 7066\n",
            "4701 - 4800 / 7066\n",
            "4801 - 4900 / 7066\n",
            "4901 - 5000 / 7066\n",
            "5001 - 5100 / 7066\n",
            "5101 - 5200 / 7066\n",
            "5201 - 5300 / 7066\n",
            "5301 - 5400 / 7066\n",
            "5401 - 5500 / 7066\n",
            "5501 - 5600 / 7066\n",
            "5601 - 5700 / 7066\n",
            "5701 - 5800 / 7066\n",
            "5801 - 5900 / 7066\n",
            "5901 - 6000 / 7066\n",
            "6001 - 6100 / 7066\n",
            "6101 - 6200 / 7066\n",
            "6201 - 6300 / 7066\n",
            "6301 - 6400 / 7066\n",
            "6401 - 6500 / 7066\n",
            "6501 - 6600 / 7066\n",
            "6601 - 6700 / 7066\n",
            "6701 - 6800 / 7066\n",
            "6801 - 6900 / 7066\n",
            "6901 - 7000 / 7066\n",
            "7001 - 7100 / 7066\n"
          ]
        }
      ]
    }
  ]
}